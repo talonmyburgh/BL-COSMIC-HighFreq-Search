{
 "cells": [
  {
   "cell_type": "code",
   "execution_count": 1,
   "metadata": {},
   "outputs": [],
   "source": [
    "# stamp_viewer env\n",
    "import numpy as np\n",
    "import matplotlib.pyplot as plt\n",
    "import setigen as stg\n",
    "from astropy import units as u\n",
    "import multiprocessing"
   ]
  },
  {
   "cell_type": "code",
   "execution_count": 2,
   "metadata": {},
   "outputs": [],
   "source": [
    "# Generate one coarse channel of fake observational data - just Gaussian noise\n",
    "def gen_obs_data(n_fine, n_ints, n_pols, n_complex):\n",
    "    # generate fake data, one for each polarization / complex num, then square and sum\n",
    "    mean = 0\n",
    "    std_dev = 1\n",
    "    n_nums_per_pixel = n_pols * n_complex\n",
    "    data = np.random.normal(loc=mean, scale=std_dev, size=(n_ints, n_fine, n_nums_per_pixel))\n",
    "    data = np.square(data)\n",
    "    data =  np.sum(data, axis=2)\n",
    "    return data\n",
    "\n",
    "# Determine number of detectable signals in data at this drift rate\n",
    "def above_snr_at_drift(data, drift_rate, snr_thresh):\n",
    "    \n",
    "    # Get snr of all signals\n",
    "    def give_snr(integrated):\n",
    "        median = np.percentile(integrated, 50)\n",
    "        top_5 = np.percentile(integrated, 95)\n",
    "        bottom_5 = np.percentile(integrated, 5)\n",
    "        center_data = integrated[(integrated < top_5) * (integrated > bottom_5)]\n",
    "        std_dev = center_data.std()\n",
    "\n",
    "        return (max(integrated) - median) / std_dev\n",
    "\n",
    "    # Dedrift and integrate a given dr\n",
    "    f_off = 1.9073486328125e-06 # fine channel spacing\n",
    "    t_samp = 0.524288 # len of integration\n",
    "    freq = 43255.90455616229 # freq of 1st channel\n",
    "    frame = stg.Frame.from_data(f_off * u.MHz, t_samp * u.s, freq * u.MHz, True, data)\n",
    "    dedrifted = stg.dedrift(frame, drift_rate)\n",
    "    integrated = stg.integrate(dedrifted, mode='sum')\n",
    "\n",
    "    # See how many signals above threshold\n",
    "    snrs = give_snr(integrated)\n",
    "    return snrs > snr_thresh\n",
    "\n",
    "# Figure out how many signals would be found in data at a given snr\n",
    "def sim_one(n_fine, n_ints, n_pols, n_complex, drifts, snr_thresh=8):\n",
    "        data = gen_obs_data(n_fine, n_ints, n_pols, n_complex)\n",
    "        # Run sim with multiprocessing\n",
    "        with multiprocessing.Pool() as p:\n",
    "            args = [(data, drift_rate, snr_thresh) for drift_rate in drifts]\n",
    "            results = np.array(p.starmap(above_snr_at_drift, args))\n",
    "\n",
    "        return results.sum()"
   ]
  },
  {
   "cell_type": "code",
   "execution_count": null,
   "metadata": {},
   "outputs": [],
   "source": [
    "# Do a simulation run\n",
    "n_fine = 2**19 # fine channels\n",
    "n_ints = 16 # integrations\n",
    "n_pols = 2 # polarizations\n",
    "n_complex = 2 # parts of complex result\n",
    "drifts = np.arange(-50, 50, .25)\n",
    "count = sim_one(n_fine, n_ints, n_pols, n_complex, drifts, snr_thresh=8)\n",
    "print(count)\n",
    "# num_seached_signals = # tbd\n",
    "# print(f\"{count} / {num_seached_signals} = {round(count / (num_seached_signals) * 100, 3)}%\")\n",
    "# print(f\"{count} / {len(drifts)} = {round(count / len(drifts) * 100, 3)}%\") # <-- used to see how many drift rates had 1+ signals > thresh"
   ]
  }
 ],
 "metadata": {
  "kernelspec": {
   "display_name": "stamp_viewer",
   "language": "python",
   "name": "python3"
  },
  "language_info": {
   "codemirror_mode": {
    "name": "ipython",
    "version": 3
   },
   "file_extension": ".py",
   "mimetype": "text/x-python",
   "name": "python",
   "nbconvert_exporter": "python",
   "pygments_lexer": "ipython3",
   "version": "3.7.8"
  }
 },
 "nbformat": 4,
 "nbformat_minor": 2
}
