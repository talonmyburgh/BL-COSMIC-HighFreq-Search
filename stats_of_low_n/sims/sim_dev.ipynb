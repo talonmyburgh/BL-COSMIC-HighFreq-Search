{
 "cells": [
  {
   "cell_type": "code",
   "execution_count": 1,
   "metadata": {},
   "outputs": [],
   "source": [
    "# stamp_viewer env\n",
    "import numpy as np\n",
    "import matplotlib.pyplot as plt\n",
    "import setigen as stg\n",
    "from astropy import units as u\n",
    "import multiprocessing"
   ]
  },
  {
   "cell_type": "code",
   "execution_count": 3,
   "metadata": {},
   "outputs": [],
   "source": [
    "shared_data = None\n",
    "\n",
    "def init_shared_data(data):\n",
    "    global shared_data\n",
    "    shared_data = data\n",
    "\n",
    "def gen_obs_data(n_fine, n_ints, n_pols, n_complex):\n",
    "    # generate fake data, one for each polarization / complex num, then square and sum\n",
    "    mean = 0\n",
    "    std_dev = 1\n",
    "    n_nums_per_pixel = n_pols * n_complex\n",
    "    data = np.random.normal(loc=mean, scale=std_dev, size=(n_ints, n_fine, n_nums_per_pixel))\n",
    "    data = np.square(data)\n",
    "    data =  np.sum(data, axis=2)\n",
    "    return data\n",
    "\n",
    "def max_snr_at_drift(data_shape, drift_rate):\n",
    "    global shared_data\n",
    "    \n",
    "    # Convert shared data back to a 2D NumPy array\n",
    "    data = np.frombuffer(shared_data.get_obj(), dtype=np.float64).reshape(data_shape)\n",
    "    \n",
    "    # See what strongest signal was - detectable?\n",
    "    def give_snr_of_max(integrated):\n",
    "        median = np.percentile(integrated, 50)\n",
    "        top_5 = np.percentile(integrated, 95)\n",
    "        bottom_5 = np.percentile(integrated, 5)\n",
    "        center_data = integrated[(integrated < top_5) * (integrated > bottom_5)]\n",
    "        std_dev = center_data.std()\n",
    "\n",
    "        return (max(integrated) - median) / std_dev\n",
    "\n",
    "    # Dedrift\n",
    "    f_off = 1.9073486328125e-06 # fine channel spacing\n",
    "    t_samp = 0.524288 # len of integration\n",
    "    freq = 43255.90455616229 # freq of 1st channel\n",
    "    frame = stg.Frame.from_data(f_off * u.MHz, t_samp * u.s, freq * u.MHz, True, data)\n",
    "    dedrifted = stg.dedrift(frame, drift_rate)\n",
    "    integrated = stg.integrate(dedrifted, mode='sum')\n",
    "\n",
    "    max_snr = give_snr_of_max(integrated)\n",
    "    return max_snr\n",
    "\n",
    "def sim_one(n_fine, n_ints, n_pols, n_complex, drifts, snr_thresh=8):\n",
    "        global shared_data\n",
    "        data = gen_obs_data(n_fine, n_ints, n_pols, n_complex)\n",
    "        shared_data = multiprocessing.Array('d', data.flatten()) # d for double, 1d only\n",
    "\n",
    "        # Run sim with multiprocessing\n",
    "        with multiprocessing.Pool(initializer=init_shared_data, initargs=(shared_data,)) as p:\n",
    "            args = [(data.shape, drift_rate) for drift_rate in drifts]\n",
    "            results = np.array(p.starmap(max_snr_at_drift, args))\n",
    "\n",
    "        detections = results > snr_thresh\n",
    "        return detections.sum()"
   ]
  },
  {
   "cell_type": "code",
   "execution_count": 7,
   "metadata": {},
   "outputs": [
    {
     "name": "stdout",
     "output_type": "stream",
     "text": [
      "210586292 / 33554432 = 6.276\n"
     ]
    }
   ],
   "source": [
    "n_fine = 2**19 # fine channels\n",
    "n_ints = 64 # integrations\n",
    "n_pols = 2 # polarizations\n",
    "n_complex = 2 # parts of complex result\n",
    "data = gen_obs_data(n_fine, n_ints, n_pols, n_complex)\n",
    "drifts = np.arange(-50, 50.5, .25)\n",
    "count = 0\n",
    "for dr in drifts:\n",
    "    f_off = 1.9073486328125e-06 # fine channel spacing\n",
    "    t_samp = 0.524288 # len of integration\n",
    "    freq = 43255.90455616229 # freq of 1st channel\n",
    "    frame = stg.Frame.from_data(f_off * u.MHz, t_samp * u.s, freq * u.MHz, True, data)\n",
    "    dedrifted = stg.dedrift(frame, dr)\n",
    "    integrated = stg.integrate(dedrifted, mode='sum')\n",
    "    count += len(integrated)\n",
    "print(f\"{count} / {data.size} = {round(count / data.size, 3)}\")"
   ]
  },
  {
   "cell_type": "code",
   "execution_count": 3,
   "metadata": {},
   "outputs": [
    {
     "name": "stdout",
     "output_type": "stream",
     "text": [
      "100.4948000907898\n",
      "50.244752407073975\n",
      "25.119728446006775\n",
      "12.55721652507782\n",
      "6.275960564613342\n"
     ]
    }
   ],
   "source": [
    "print(210752871 / 2097152) # 4 ints\n",
    "print(210741766 / 4194304) # 8\n",
    "print(210719555 / 8388608) # 16 ints\n",
    "print(210675134 / 16777216) # 32\n",
    "print(210586292 / 33554432) # 64"
   ]
  },
  {
   "cell_type": "code",
   "execution_count": null,
   "metadata": {},
   "outputs": [],
   "source": [
    "# n_fine = 2**19 # fine channels\n",
    "# n_ints = 16 # integrations\n",
    "# n_pols = 2 # polarizations\n",
    "# n_complex = 2 # parts of complex result\n",
    "# drifts = np.arange(-50, 50, .25)\n",
    "# count = sim_one(n_fine, n_ints, n_pols, n_complex, drifts, snr_thresh=8)\n",
    "# print(f\"{count} / {len(drifts)} = {round(count / len(drifts) * 100, 3)}%\")\n"
   ]
  },
  {
   "cell_type": "code",
   "execution_count": 6,
   "metadata": {},
   "outputs": [
    {
     "name": "stdout",
     "output_type": "stream",
     "text": [
      "on 5.0\n",
      "on 5.5\n",
      "on 6.0\n",
      "on 6.5\n",
      "on 7.0\n",
      "on 7.5\n",
      "on 8.0\n",
      "on 8.5\n",
      "on 9.0\n",
      "on 9.5\n",
      "on 10.0\n",
      "on 10.5\n",
      "on 11.0\n",
      "on 11.5\n",
      "on 12.0\n",
      "on 12.5\n",
      "on 13.0\n",
      "on 13.5\n",
      "on 14.0\n",
      "on 14.5\n"
     ]
    }
   ],
   "source": [
    "# Do at different SNRs\n",
    "snrs = np.arange(5, 15, 0.5)\n",
    "results = []\n",
    "for snr in snrs:\n",
    "    print(\"on\", snr)\n",
    "    result = []\n",
    "    # repeat trial 5x\n",
    "    for i in range(5):\n",
    "        n_fine = 2**19 # fine channels\n",
    "        n_ints = 16 # integrations\n",
    "        n_pols = 2 # polarizations\n",
    "        n_complex = 2 # parts of complex result\n",
    "        drifts = np.arange(-50, 50, .25)\n",
    "        # count = sim_one(n_fine, n_ints, n_pols, n_complex, drifts, snr_thresh=snr)\n",
    "        count = 1\n",
    "        result.append(count)\n",
    "    results.append(result)\n"
   ]
  },
  {
   "cell_type": "code",
   "execution_count": 8,
   "metadata": {},
   "outputs": [
    {
     "data": {
      "text/plain": [
       "array([[1, 1, 1, 1, 1],\n",
       "       [1, 1, 1, 1, 1],\n",
       "       [1, 1, 1, 1, 1],\n",
       "       [1, 1, 1, 1, 1],\n",
       "       [1, 1, 1, 1, 1],\n",
       "       [1, 1, 1, 1, 1],\n",
       "       [1, 1, 1, 1, 1],\n",
       "       [1, 1, 1, 1, 1],\n",
       "       [1, 1, 1, 1, 1],\n",
       "       [1, 1, 1, 1, 1],\n",
       "       [1, 1, 1, 1, 1],\n",
       "       [1, 1, 1, 1, 1],\n",
       "       [1, 1, 1, 1, 1],\n",
       "       [1, 1, 1, 1, 1],\n",
       "       [1, 1, 1, 1, 1],\n",
       "       [1, 1, 1, 1, 1],\n",
       "       [1, 1, 1, 1, 1],\n",
       "       [1, 1, 1, 1, 1],\n",
       "       [1, 1, 1, 1, 1],\n",
       "       [1, 1, 1, 1, 1]])"
      ]
     },
     "execution_count": 8,
     "metadata": {},
     "output_type": "execute_result"
    }
   ],
   "source": [
    "np.array(results)"
   ]
  },
  {
   "cell_type": "code",
   "execution_count": 5,
   "metadata": {},
   "outputs": [
    {
     "name": "stdout",
     "output_type": "stream",
     "text": [
      "Current Date and Time: 2024-12-28 07:43:44.378736\n"
     ]
    }
   ],
   "source": [
    "from datetime import datetime\n",
    "\n",
    "# Get the current date and time\n",
    "current_time = datetime.now()\n",
    "\n",
    "# Print the current time\n",
    "print(\"Current Date and Time:\", \n",
    "current_time = )"
   ]
  },
  {
   "cell_type": "code",
   "execution_count": null,
   "metadata": {},
   "outputs": [],
   "source": []
  }
 ],
 "metadata": {
  "kernelspec": {
   "display_name": "stamp_viewer",
   "language": "python",
   "name": "python3"
  },
  "language_info": {
   "codemirror_mode": {
    "name": "ipython",
    "version": 3
   },
   "file_extension": ".py",
   "mimetype": "text/x-python",
   "name": "python",
   "nbconvert_exporter": "python",
   "pygments_lexer": "ipython3",
   "version": "undefined.undefined.undefined"
  }
 },
 "nbformat": 4,
 "nbformat_minor": 2
}
