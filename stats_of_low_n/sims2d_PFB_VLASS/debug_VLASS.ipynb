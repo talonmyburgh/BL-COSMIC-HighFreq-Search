{
 "cells": [
  {
   "cell_type": "code",
   "execution_count": 1,
   "metadata": {},
   "outputs": [],
   "source": [
    "# stamp_viewer env\n",
    "import numpy as np\n",
    "import matplotlib.pyplot as plt\n",
    "import setigen as stg\n",
    "from astropy import units as u\n",
    "# import multiprocessing\n",
    "# from datetime import datetime"
   ]
  },
  {
   "cell_type": "code",
   "execution_count": 2,
   "metadata": {},
   "outputs": [],
   "source": [
    "n_ints = 64\n",
    "\n",
    "n_fine = 2**17 # fine channels - 2^17 for VLASS, 2^19 for high freq\n",
    "n_pols = 2 # polarizations\n",
    "n_complex = 2 # parts of complex result\n",
    "drifts = np.arange(-50, 50.25, .25)\n",
    "\n",
    "PFB_filepath='/home/nstiegle/raw_data_work/VLASS_response.f32'\n",
    "f_off=7.63e-06\n",
    "t_samp=8.338608 / 64\n",
    "freq=3000\n",
    "\n",
    "drifts = np.arange(-50, 50.25, .25)"
   ]
  },
  {
   "cell_type": "code",
   "execution_count": 3,
   "metadata": {},
   "outputs": [],
   "source": [
    "def gen_obs_data(n_fine, n_ints, n_pols, n_complex, PFB_filepath=\"\"):\n",
    "    \"\"\"\n",
    "    gen_obs_data\n",
    "    Generate one observational coarse channel\n",
    "\n",
    "    n_fine: Number of fine channels per coarse channel - usually a power of 2\n",
    "    n_ints: Number of integrations performed, amount of data per frequency bin\n",
    "    n_pols: Number of polarizations observed - usually 2\n",
    "    n_complex: Number of complex components to an observation - usually 2 for IQ\n",
    "    PFB_filepath: Filepath to the PFB response for the observation, or \"\" if no\n",
    "                  PFB response should be added\n",
    "\n",
    "    Returns a numpy array which is (n_ints, n_fine), where each element represents\n",
    "    the data observed at that frequency and integration, a Chi-Square(4)\n",
    "    distribution (sum of squares of 4 normal samples)\n",
    "    \"\"\"\n",
    "    # generate fake data, one for each polarization / complex num, then square and sum\n",
    "    mean = 0\n",
    "    std_dev = 1\n",
    "    n_nums_per_pixel = n_pols * n_complex\n",
    "    data = np.random.normal(loc=mean, scale=std_dev, size=(n_ints, n_fine, n_nums_per_pixel))\n",
    "    data = np.square(data)\n",
    "    data =  np.sum(data, axis=2)\n",
    "\n",
    "    # Add PFB correction\n",
    "    if PFB_filepath != \"\": # '/home/nstiegle/raw_data_work/COSMIC_response.f32' for high freq data\n",
    "        # Read in PFB shape data\n",
    "        with open(PFB_filepath, 'rb') as f:\n",
    "            # Use numpy's fromfile method to read in the 32-bit floats\n",
    "            pfb = np.fromfile(f, dtype=np.float32)\n",
    "\n",
    "        # Check shapes and apply PFB correction to data\n",
    "        assert(len(pfb) == data.shape[1])\n",
    "        before_shape = data.shape\n",
    "        data *= pfb\n",
    "        assert(data.shape == before_shape)\n",
    "\n",
    "    return data"
   ]
  },
  {
   "cell_type": "code",
   "execution_count": 4,
   "metadata": {},
   "outputs": [],
   "source": [
    "data = gen_obs_data(n_fine, n_ints, n_pols, n_complex, PFB_filepath=PFB_filepath)"
   ]
  },
  {
   "cell_type": "code",
   "execution_count": 5,
   "metadata": {},
   "outputs": [
    {
     "data": {
      "text/plain": [
       "(64, 131072)"
      ]
     },
     "execution_count": 5,
     "metadata": {},
     "output_type": "execute_result"
    }
   ],
   "source": [
    "data.shape"
   ]
  },
  {
   "cell_type": "code",
   "execution_count": 16,
   "metadata": {},
   "outputs": [],
   "source": [
    "def above_snr_at_drift(data, drift_rate, snr_thresh, f_off, t_samp, freq):\n",
    "    \"\"\"\n",
    "    above_snr_at_drift\n",
    "    Figure out how many drift lines yield an integrated intensity above the\n",
    "    given SNR threshold at the given drift rate\n",
    "\n",
    "    data_shape: Shape of the shared_data object stored in global memory, usually\n",
    "                (n_ints, n_fine)\n",
    "    drift_rate: Drift rate to dedrift and integrate at, in Hz/s\n",
    "    snr_thresh: Threshold in SNR to define a detection\n",
    "    f_off:      Frequency offset/spacing between fine channels in MHz\n",
    "    t_samp:     Length in seconds of each integration\n",
    "    freq:       Frequency of the first fine channel in MHz\n",
    "\n",
    "    The integer number of drift lines with a positive detection\n",
    "    \"\"\"\n",
    "    \n",
    "    # Get snr of all signals\n",
    "    def give_snr(integrated):\n",
    "        median = np.percentile(integrated, 50)\n",
    "        top_5 = np.percentile(integrated, 95)\n",
    "        bottom_5 = np.percentile(integrated, 5)\n",
    "        center_data = integrated[(integrated < top_5) * (integrated > bottom_5)]\n",
    "        std_dev = center_data.std()\n",
    "\n",
    "        return (integrated - median) / std_dev\n",
    "\n",
    "    # Dedrift\n",
    "    frame = stg.Frame.from_data(f_off * u.MHz, t_samp * u.s, freq * u.MHz, True, data)\n",
    "    dedrifted = stg.dedrift(frame, drift_rate)\n",
    "    integrated = stg.integrate(dedrifted, mode='sum')\n",
    "\n",
    "    # See how many signals above threshold\n",
    "    snrs = give_snr(integrated)\n",
    "    print(\"Mean of the SNRS:\", np.mean(snrs))\n",
    "    print(\"Max SNR\", np.max(snrs))\n",
    "    return sum(snrs > snr_thresh)"
   ]
  },
  {
   "cell_type": "code",
   "execution_count": 18,
   "metadata": {},
   "outputs": [
    {
     "name": "stdout",
     "output_type": "stream",
     "text": [
      "Mean of the SNRS: -0.18523299704441532\n",
      "Max SNR 3.2083276792106914\n",
      "Number above 5 SNR: 0\n"
     ]
    }
   ],
   "source": [
    "drift_rate = 0\n",
    "snr_thresh = 5\n",
    "result = above_snr_at_drift(data, drift_rate, snr_thresh, f_off, t_samp, freq)\n",
    "print(f\"Number above {snr_thresh} SNR:\", result)"
   ]
  },
  {
   "cell_type": "code",
   "execution_count": null,
   "metadata": {},
   "outputs": [],
   "source": []
  }
 ],
 "metadata": {
  "kernelspec": {
   "display_name": "stamp_viewer",
   "language": "python",
   "name": "python3"
  },
  "language_info": {
   "codemirror_mode": {
    "name": "ipython",
    "version": 3
   },
   "file_extension": ".py",
   "mimetype": "text/x-python",
   "name": "python",
   "nbconvert_exporter": "python",
   "pygments_lexer": "ipython3",
   "version": "3.7.8"
  }
 },
 "nbformat": 4,
 "nbformat_minor": 2
}
