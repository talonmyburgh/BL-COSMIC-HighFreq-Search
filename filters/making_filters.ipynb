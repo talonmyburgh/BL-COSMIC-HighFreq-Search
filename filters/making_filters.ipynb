{
 "cells": [
  {
   "cell_type": "markdown",
   "metadata": {},
   "source": [
    "## Setup"
   ]
  },
  {
   "cell_type": "code",
   "execution_count": 1,
   "metadata": {},
   "outputs": [],
   "source": [
    "# Import useful packages\n",
    "import numpy as np\n",
    "import matplotlib.pyplot as plt\n",
    "import pandas as pd\n",
    "# import seaborn as sns\n",
    "from scipy.sparse import csr_array\n",
    "from scipy.sparse import lil_array\n",
    "from scipy.sparse import save_npz\n",
    "from scipy.sparse import load_npz\n",
    "import os\n",
    "from datetime import datetime, timedelta\n",
    "import multiprocessing"
   ]
  },
  {
   "cell_type": "code",
   "execution_count": 2,
   "metadata": {},
   "outputs": [],
   "source": [
    "# Read in the data\n",
    "\n",
    "# Check which server we're on (in case the data is in different places on different servers)\n",
    "import socket\n",
    "hostname = socket.gethostname()\n",
    "\n",
    "# Get paths to data\n",
    "if hostname == \"blpc1\" or hostname == \"blpc2\":\n",
    "    data_path = \"/datax/scratch/nstieg/\"\n",
    "elif hostname == \"cosmic-gpu-1\":\n",
    "    data_path = \"/mnt/cosmic-gpu-1/data0/nstiegle/\"\n",
    "else:\n",
    "    raise Exception(\"Data path not known\")\n",
    "\n",
    "full_dataset_path = data_path + \"25GHz_higher.pkl\"\n",
    "coherent_dataset_path = data_path + \"25GHz_higher_coherent.pkl\"\n",
    "incoherent_dataset_path = data_path + \"25GHz_higher_incoherent.pkl\"\n",
    "\n",
    "# Read in data\n",
    "coherent = pd.read_pickle(coherent_dataset_path)\n",
    "# incoherent = pd.read_pickle(incoherent_dataset_path)\n",
    "# df = pd.read_pickle(full_dataset_path)"
   ]
  },
  {
   "cell_type": "code",
   "execution_count": 3,
   "metadata": {},
   "outputs": [],
   "source": [
    "# All data\n",
    "# # Load in distance and mask\n",
    "# path = \"/home/nstieg/BL-COSMIC-2024-proj/frequency_adjacency/adjacent_in_all/\"\n",
    "# distances_path = path + \"all_within_1000hz.distances.npz\"\n",
    "# mask_path = path + \"all_within_1000hz.mask.npz\"\n",
    "# distances = load_npz(distances_path)\n",
    "# mask = load_npz(mask_path)\n",
    "# print(distances.shape)\n",
    "# print(mask.shape)\n",
    "\n",
    "# Coherent, by source data\n",
    "# Load in all the distances and masks to a np array of [[distances, mask], ...] for each source\n",
    "# path = os.path.expanduser(\"~\") + \"/\" + \"BL-COSMIC-2024-proj/frequency_adjacency/adjacent_in_each_source/\" # Place to save arrays\n",
    "# files = os.listdir(path) # All the files and directories in the folder\n",
    "# files = [f for f in files if os.path.isfile(path + '/' + f)] # Just get the folders\n",
    "# files = [f.split('.') for f in files] # Take off the extension\n",
    "# files = np.array(files) # Turn into a numpy array so I can slice off the extensions\n",
    "# files = np.unique(files[:, 0]) # Get the unique filenames (sources observed)\n",
    "# sources_data = [] # Append (source.distances.npz, source.mask.npz)\n",
    "# sources = []\n",
    "# for file in files:\n",
    "#     distances = load_npz(path + \"/\" + file + \".distances.npz\")\n",
    "#     mask = load_npz(path + \"/\" + file + \".mask.npz\")\n",
    "#     sources_data.append((distances, mask))\n",
    "#     sources.append(file.split('_')[0])\n",
    "\n",
    "# sources_data = np.array(sources_data, dtype='object')"
   ]
  },
  {
   "cell_type": "markdown",
   "metadata": {},
   "source": [
    "## Coherent Filters"
   ]
  },
  {
   "cell_type": "markdown",
   "metadata": {},
   "source": [
    "### Filter 1"
   ]
  },
  {
   "cell_type": "code",
   "execution_count": 123,
   "metadata": {},
   "outputs": [],
   "source": [
    "# The filter (for filter 1) to run on a single group of frequencies to see if they\n",
    "# count as RFI or not\n",
    "# Takes:\n",
    "# - A df containing hits from a single source all at the same frequency\n",
    "# Returns:\n",
    "# - True if those hits don't count as RFI or false if they do\n",
    "def pass_filter1_single_group(group):\n",
    "    if len(group) == 1:\n",
    "        # No other hit at this frequency, could be a genuine signal\n",
    "        return True\n",
    "    else:\n",
    "        unique_drs = group.signal_drift_rate.unique()\n",
    "        # Not all hits had 0 drift rate\n",
    "        return (len(unique_drs) != 1) or (0 not in unique_drs)\n",
    "\n",
    "# Run filter one on a single source\n",
    "# A part of the filter one algorithm\n",
    "# Parameters:\n",
    "# - source: The df of source from the coherent data\n",
    "# Returns the ids of the hits which pass the filter\n",
    "def filter1_single_source(source, name=None):\n",
    "    source_good_ids = np.array([], dtype=int) # Put all the good ids from this source\n",
    "    \n",
    "    # Put things into groups of frequencies which are *exactly* the same\n",
    "    groups = source.groupby(\"signal_frequency\")\n",
    "    for f, group in groups:\n",
    "        if pass_filter1_single_group(group):\n",
    "            source_good_ids = np.concatenate((source_good_ids, group.id.values))\n",
    "\n",
    "    # Log\n",
    "    if name != None:\n",
    "        print(\"Done with: \" + name)\n",
    "\n",
    "    return source_good_ids\n",
    "\n",
    "# Apply filter one\n",
    "# Extend COSMIC's ability to detect zero drift rate RFI\n",
    "# Removes hits from a single target which are at exactly the same frequency as other hits \n",
    "# from that target and where all the hits detected at that frequency have a zero drift rate\n",
    "# Parameters:\n",
    "# - coherent: The df of coherent data\n",
    "# Returns the ids of the hits which pass the filter\n",
    "def filter1(coherent):\n",
    "    # What we're going to return\n",
    "    good_ids = np.array([], dtype=int) # Place to store all the good ids we find\n",
    "    \n",
    "    # Filter by each source\n",
    "    sources = coherent.groupby(\"source_name\")\n",
    "    for source_name, source in sources:\n",
    "        print(\"On source\", source_name)\n",
    "        source_good_ids = filter1_single_source(source)\n",
    "        good_ids = np.concatenate((good_ids, source_good_ids))\n",
    "\n",
    "    return good_ids"
   ]
  },
  {
   "cell_type": "markdown",
   "metadata": {},
   "source": [
    "#### Test Filter 1"
   ]
  },
  {
   "cell_type": "code",
   "execution_count": 110,
   "metadata": {},
   "outputs": [],
   "source": [
    "# Get a list of frequency groups from the first dataset\n",
    "sources = list(coherent.groupby(\"source_name\"))\n",
    "source_name, source = sources[0]\n",
    "groups = list(source.groupby(\"signal_frequency\"))\n",
    "\n",
    "single_zero_group = groups[0][1] # Just one zero\n",
    "single_mixed_group = groups[8][1] # just one nonzero\n",
    "many_zero_group = groups[14][1] # Has many zeros, shouldn't pass\n",
    "many_mixed_group = groups[82][1] # Has some zeros and some nonzeros, should pass"
   ]
  },
  {
   "cell_type": "code",
   "execution_count": 124,
   "metadata": {},
   "outputs": [],
   "source": [
    "assert(pass_filter1_single_group(single_zero_group))\n",
    "assert(pass_filter1_single_group(single_mixed_group))\n",
    "assert(not pass_filter1_single_group(many_zero_group))\n",
    "assert(pass_filter1_single_group(many_mixed_group))"
   ]
  },
  {
   "cell_type": "markdown",
   "metadata": {},
   "source": [
    "#### Mess around with filter 1"
   ]
  },
  {
   "cell_type": "code",
   "execution_count": 7,
   "metadata": {},
   "outputs": [],
   "source": [
    "first_source = coherent[coherent['source_name'] == coherent[\"source_name\"][0]]\n",
    "good_ids = filter1_single_source(first_source)"
   ]
  },
  {
   "cell_type": "code",
   "execution_count": 8,
   "metadata": {},
   "outputs": [
    {
     "name": "stdout",
     "output_type": "stream",
     "text": [
      "(29936,) good ids\n",
      "41.912% of ids good\n"
     ]
    }
   ],
   "source": [
    "print(good_ids.shape, \"good ids\")\n",
    "print(f\"{round(len(good_ids) / len(first_source) * 100, 3)}% of ids good\")"
   ]
  },
  {
   "cell_type": "code",
   "execution_count": 9,
   "metadata": {},
   "outputs": [],
   "source": [
    "first_source_ids = first_source.set_index(\"id\")\n",
    "assert(len(first_source) == len(first_source_ids))\n",
    "good_data = first_source_ids.loc[good_ids]\n",
    "assert(len(good_data) == len(good_ids))"
   ]
  },
  {
   "cell_type": "markdown",
   "metadata": {},
   "source": [
    "#### multprocess filter 1"
   ]
  },
  {
   "cell_type": "code",
   "execution_count": 41,
   "metadata": {},
   "outputs": [
    {
     "data": {
      "image/png": "[encoded data removed]",
      "text/plain": [
       "<Figure size 640x480 with 1 Axes>"
      ]
     },
     "metadata": {},
     "output_type": "display_data"
    }
   ],
   "source": [
    "# So we could just run each source individually, right?\n",
    "# Let's see how big the sources are. The biggest one will \n",
    "# be our limiting factor\n",
    "sources = coherent.groupby(\"source_name\")\n",
    "sizes = [len(source) for _, source in sources]\n",
    "plt.plot(sizes, marker='o')\n",
    "plt.xlabel(\"Group #\")\n",
    "plt.ylabel(\"size\")\n",
    "plt.show()"
   ]
  },
  {
   "cell_type": "code",
   "execution_count": 33,
   "metadata": {},
   "outputs": [
    {
     "name": "stdout",
     "output_type": "stream",
     "text": [
      "Done with: 2535280716217508992\n",
      "Done with: 2536546185381558272\n",
      "[987229837 987228147 987285463 ... 953252868 953396087 953400863]\n",
      "(42518,)\n"
     ]
    }
   ],
   "source": [
    "# Try multiprocessing on just the first two (small ones)\n",
    "\n",
    "# Create input array\n",
    "inputs = [(source, source_name) for source_name, source in sources] \n",
    "\n",
    "# # creating a pool object \n",
    "p = multiprocessing.Pool() \n",
    "\n",
    "# map list to target function \n",
    "results = p.starmap(filter1_single_source, inputs[:2])\n",
    "\n",
    "good_indices_2 = np.array([], dtype=int)\n",
    "for result in results:\n",
    "    good_indices_2 = np.concatenate([good_indices_2, result])\n",
    "\n",
    "print(good_indices_2)\n",
    "print(good_indices_2.shape)"
   ]
  },
  {
   "cell_type": "markdown",
   "metadata": {},
   "source": [
    "### Filter 2"
   ]
  },
  {
   "cell_type": "code",
   "execution_count": 129,
   "metadata": {},
   "outputs": [],
   "source": [
    "# The filter (for filter 2) to run on a single group of frequencies to see if they\n",
    "# count as RFI or not\n",
    "# Takes:\n",
    "# - A df containing hits from a single source all at the same frequency\n",
    "# Returns:\n",
    "# - True if those hits don't count as RFI or false if they do\n",
    "def pass_filter2_single_group(group):\n",
    "    if len(group) == 1:\n",
    "        # No other hit at this frequency, could be a genuine signal\n",
    "        return True\n",
    "    else:\n",
    "        unique_drs = group.signal_drift_rate.unique()\n",
    "        \n",
    "        # There is a drift rate greater than or equal to 0.25Hz/s\n",
    "        return max(abs(unique_drs)) >= 0.25\n",
    "\n",
    "# Run filter two on a single source\n",
    "# A part of the filter two algorithm\n",
    "# Parameters:\n",
    "# - source: The df of source from the coherent data\n",
    "# Returns the ids of the hits which pass the filter\n",
    "def filter2_single_source(source, name=None):\n",
    "    source_good_ids = np.array([], dtype=int) # Put all the good ids from this source\n",
    "    \n",
    "    # Put things into groups of frequencies which are *exactly* the same\n",
    "    groups = source.groupby(\"signal_frequency\")\n",
    "    for f, group in groups:\n",
    "        if pass_filter2_single_group(group):\n",
    "            source_good_ids = np.concatenate((source_good_ids, group.id.values))\n",
    "\n",
    "    # Log\n",
    "    if name != None:\n",
    "        print(\"Done with: \" + name)\n",
    "\n",
    "    return source_good_ids\n",
    "\n",
    "# Apply filter two\n",
    "# Extend COSMIC's ability to detect zero drift rate RFI\n",
    "# Removes hits from a single target which are at exactly the same frequency as other hits \n",
    "# from that target and where all the hits detected at that frequency have a zero drift rate\n",
    "# or close to zero drift rate (|DR| < 0.25Hz/s)\n",
    "# Parameters:\n",
    "# - coherent: The df of coherent data\n",
    "# Returns the ids of the hits which pass the filter\n",
    "def filter2(coherent):\n",
    "    # What we're going to return\n",
    "    good_ids = np.array([], dtype=int) # Place to store all the good ids we find\n",
    "    \n",
    "    # Filter by each source\n",
    "    sources = coherent.groupby(\"source_name\")\n",
    "    for source_name, source in sources:\n",
    "        print(\"On source\", source_name)\n",
    "        source_good_ids = filter1_single_source(source)\n",
    "        good_ids = np.concatenate((good_ids, source_good_ids))\n",
    "\n",
    "    return good_ids"
   ]
  },
  {
   "cell_type": "code",
   "execution_count": 139,
   "metadata": {},
   "outputs": [],
   "source": [
    "# for i, group in enumerate(groups):\n",
    "#     f, group = group\n",
    "#     if len(group) > 1 and len(group.signal_drift_rate.unique()) > 1 and max(abs(group.signal_drift_rate.unique())) >= 0.25:\n",
    "#         print(\"index:\", i, \"num_hits\", len(group), \"max dr:\", max(abs(group.signal_drift_rate.unique())))\n",
    "\n",
    "high_dr_group = groups[584][1]\n",
    "mid_dr_group = groups[492][1]"
   ]
  },
  {
   "cell_type": "code",
   "execution_count": 140,
   "metadata": {},
   "outputs": [],
   "source": [
    "assert(pass_filter2_single_group(single_zero_group))\n",
    "assert(pass_filter2_single_group(single_mixed_group))\n",
    "assert(not pass_filter2_single_group(many_zero_group))\n",
    "assert(not pass_filter2_single_group(many_mixed_group))\n",
    "assert(pass_filter2_single_group(high_dr_group))\n",
    "assert(pass_filter2_single_group(mid_dr_group))\n"
   ]
  },
  {
   "cell_type": "markdown",
   "metadata": {},
   "source": [
    "### Misc"
   ]
  },
  {
   "cell_type": "code",
   "execution_count": 10,
   "metadata": {},
   "outputs": [
    {
     "data": {
      "text/plain": [
       "numpy.ndarray"
      ]
     },
     "execution_count": 10,
     "metadata": {},
     "output_type": "execute_result"
    }
   ],
   "source": [
    "groups = coherent.groupby('source_name')\n",
    "group = groups.get_group(coherent.source_name[0])\n",
    "groups = group.groupby(\"signal_frequency\")\n",
    "group = groups.get_group(coherent.signal_frequency[0])\n"
   ]
  },
  {
   "cell_type": "code",
   "execution_count": 13,
   "metadata": {},
   "outputs": [
    {
     "name": "stdout",
     "output_type": "stream",
     "text": [
      "[]\n",
      "[900273190]\n",
      "[900273190]\n"
     ]
    }
   ],
   "source": [
    "a = np.array([], dtype=int)\n",
    "print(a)\n",
    "print(group.id.values)\n",
    "b = np.concatenate([a, group.id.values])\n",
    "print(b)"
   ]
  },
  {
   "cell_type": "code",
   "execution_count": 20,
   "metadata": {},
   "outputs": [
    {
     "name": "stdout",
     "output_type": "stream",
     "text": [
      "2410430\n",
      "655765\n"
     ]
    }
   ],
   "source": [
    "groups = coherent.groupby(\"signal_frequency\")\n",
    "print(len(groups))\n",
    "filtered_groups = groups.filter(lambda x: len(x) > 1)\n",
    "print(len(filtered_groups))"
   ]
  },
  {
   "cell_type": "code",
   "execution_count": 23,
   "metadata": {},
   "outputs": [],
   "source": [
    "np.save(\"/home/nstieg/BL-COSMIC-2024-proj/filters/filter5\" + \"/run_filter_5_coherent_results\", filtered_groups.id.values)"
   ]
  },
  {
   "cell_type": "code",
   "execution_count": 6,
   "metadata": {},
   "outputs": [
    {
     "data": {
      "text/plain": [
       "0"
      ]
     },
     "execution_count": 6,
     "metadata": {},
     "output_type": "execute_result"
    }
   ],
   "source": [
    "# Look at a coherent/incoherent filter ratio\n",
    "# c * sqrt(nants) > i\n",
    "# c/i * sqrt(nants) > 1\n",
    "# c/i > 1/sqrt(nants)\n",
    "a = coherent.signal_power / coherent.signal_incoherent_power\n",
    "good = a > 1/20\n",
    "bad = a <= 1/20\n",
    "bad.sum()"
   ]
  }
 ],
 "metadata": {
  "kernelspec": {
   "display_name": "pulsar",
   "language": "python",
   "name": "python3"
  },
  "language_info": {
   "codemirror_mode": {
    "name": "ipython",
    "version": 3
   },
   "file_extension": ".py",
   "mimetype": "text/x-python",
   "name": "python",
   "nbconvert_exporter": "python",
   "pygments_lexer": "ipython3",
   "version": "3.8.0"
  }
 },
 "nbformat": 4,
 "nbformat_minor": 2
}
